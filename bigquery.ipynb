{
 "cells": [
  {
   "cell_type": "code",
   "execution_count": 2,
   "metadata": {},
   "outputs": [],
   "source": [
    "import os \n",
    "from google.cloud import bigquery \n",
    "\n",
    "os.environ[\"GOOGLE_APPLICATION_CREDENTIALS\"] = \"./yieldcurve-422317-510529e47525.json\""
   ]
  },
  {
   "cell_type": "code",
   "execution_count": 4,
   "metadata": {},
   "outputs": [],
   "source": [
    "def push_to_big_query(description):\n",
    "    # init client \n",
    "    client = bigquery.Client()\n",
    "\n",
    "    # Define your dataset and table\n",
    "    dataset_id = 'yieldcurve'\n",
    "    table_id = 'daily_description'\n",
    "\n",
    "    table_ref = client.dataset(dataset_id).table(table_id)\n",
    "    # Insert data into the table\n",
    "    to_insert = [\n",
    "        {\"Date\": \"2024-05-20\", \"Description\": description}\n",
    "    ]\n",
    "    errors = client.insert_rows_json(table_ref, to_insert)  # Make an API request.\n",
    "    if errors == []:\n",
    "        print(\"New rows have been added.\")\n",
    "    else:\n",
    "        print(\"Encountered errors while inserting rows: {}\".format(errors))"
   ]
  },
  {
   "cell_type": "code",
   "execution_count": 5,
   "metadata": {},
   "outputs": [],
   "source": [
    "s = \"\"\"**US Treasury Yield Curve Movements On 2024-05-20**\n",
    "\n",
    "**Overview:**\n",
    "The yield curve on May 20, 2024, indicates a gradual decrease in yields from the short-end (1-month: 5.50%) to the long-end (30-year: 4.58%). This indicates a downward sloping or \"inverted\" yield curve. The yield differential between 2-year and 10-year (0.38) is slightly positive, while the difference between 2-year and 30-year treasuries shows a small inverse (0.24). The yield differential between the 10-year and 30-year is negative (-0.14), representing a flatter yield curve.\n",
    "\n",
    "**What it Means**\n",
    "1. **Economic Outlook:** The inverted yield curve generally signifies a pessimistic economic outlook, as investors are demanding higher yields for shorter-term securities compared to longer-term ones, typically an indicator of expected economic slowdown or recession.\n",
    "\n",
    "2. **Monetary Policy:** In terms of monetary policy, the current yield curve might indicate a tightening monetary environment. The Federal Reserve might consider easing its monetary controls (like interest rate reductions) to prop up the economy and rectify the inversion.\n",
    "\n",
    "3. **Investment Strategies:** For investors, this type of yield curve could suggest moving investments towards shorter-term securities to capitalize on their higher yields compared to long-term bonds. However, they must also consider their risk appetite and long term investment objectives as investing in shorter-term securities could entail more frequent reinvestment risks.\"\"\""
   ]
  },
  {
   "cell_type": "code",
   "execution_count": 6,
   "metadata": {},
   "outputs": [
    {
     "name": "stdout",
     "output_type": "stream",
     "text": [
      "New rows have been added.\n"
     ]
    }
   ],
   "source": [
    "push_to_big_query(description = s)"
   ]
  },
  {
   "cell_type": "code",
   "execution_count": null,
   "metadata": {},
   "outputs": [],
   "source": []
  }
 ],
 "metadata": {
  "kernelspec": {
   "display_name": "venv",
   "language": "python",
   "name": "python3"
  },
  "language_info": {
   "codemirror_mode": {
    "name": "ipython",
    "version": 3
   },
   "file_extension": ".py",
   "mimetype": "text/x-python",
   "name": "python",
   "nbconvert_exporter": "python",
   "pygments_lexer": "ipython3",
   "version": "3.11.9"
  }
 },
 "nbformat": 4,
 "nbformat_minor": 2
}
