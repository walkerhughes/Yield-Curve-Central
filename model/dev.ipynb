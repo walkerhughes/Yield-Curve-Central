{
 "cells": [
  {
   "cell_type": "code",
   "execution_count": 9,
   "metadata": {},
   "outputs": [
    {
     "data": {
      "text/plain": [
       "True"
      ]
     },
     "execution_count": 9,
     "metadata": {},
     "output_type": "execute_result"
    }
   ],
   "source": [
    "import os\n",
    "import pandas as pd \n",
    "from sklearn.linear_model import LinearRegression\n",
    "from sklearn.model_selection import train_test_split\n",
    "import matplotlib.pyplot as plt \n",
    "from dotenv import load_dotenv\n",
    "import openai \n",
    "\n",
    "import datetime \n",
    "\n",
    "BASE_DIR = \"/\".join(os.getcwd().split(\"/\")[: -1])\n",
    "data_cleaned_dir = \"/data/cleaned/yield_curve_historical_rates_MASTER.parquet\"\n",
    "\n",
    "CURRENT_DATE = str(datetime.datetime.today()).split(\" \")[0]\n",
    "\n",
    "load_dotenv()"
   ]
  },
  {
   "cell_type": "code",
   "execution_count": 8,
   "metadata": {},
   "outputs": [
    {
     "data": {
      "text/plain": [
       "'2024-05-20'"
      ]
     },
     "execution_count": 8,
     "metadata": {},
     "output_type": "execute_result"
    }
   ],
   "source": [
    "str(datetime.datetime.today()).split(\" \")[0]"
   ]
  },
  {
   "cell_type": "code",
   "execution_count": 2,
   "metadata": {},
   "outputs": [
    {
     "name": "stdout",
     "output_type": "stream",
     "text": [
      "(12545, 16)\n"
     ]
    },
    {
     "data": {
      "text/html": [
       "<div>\n",
       "<style scoped>\n",
       "    .dataframe tbody tr th:only-of-type {\n",
       "        vertical-align: middle;\n",
       "    }\n",
       "\n",
       "    .dataframe tbody tr th {\n",
       "        vertical-align: top;\n",
       "    }\n",
       "\n",
       "    .dataframe thead th {\n",
       "        text-align: right;\n",
       "    }\n",
       "</style>\n",
       "<table border=\"1\" class=\"dataframe\">\n",
       "  <thead>\n",
       "    <tr style=\"text-align: right;\">\n",
       "      <th></th>\n",
       "      <th>Date</th>\n",
       "      <th>1 Mo</th>\n",
       "      <th>2 Mo</th>\n",
       "      <th>3 Mo</th>\n",
       "      <th>6 Mo</th>\n",
       "      <th>1 Yr</th>\n",
       "      <th>2 Yr</th>\n",
       "      <th>3 Yr</th>\n",
       "      <th>5 Yr</th>\n",
       "      <th>7 Yr</th>\n",
       "      <th>10 Yr</th>\n",
       "      <th>20 Yr</th>\n",
       "      <th>30 Yr</th>\n",
       "      <th>2 Yr - 10 Yr</th>\n",
       "      <th>2 Yr - 30 Yr</th>\n",
       "      <th>10 Yr - 30 Yr</th>\n",
       "    </tr>\n",
       "  </thead>\n",
       "  <tbody>\n",
       "    <tr>\n",
       "      <th>0</th>\n",
       "      <td>2024-05-07</td>\n",
       "      <td>5.51</td>\n",
       "      <td>5.48</td>\n",
       "      <td>5.45</td>\n",
       "      <td>5.41</td>\n",
       "      <td>5.13</td>\n",
       "      <td>4.82</td>\n",
       "      <td>4.60</td>\n",
       "      <td>4.48</td>\n",
       "      <td>4.47</td>\n",
       "      <td>4.47</td>\n",
       "      <td>4.70</td>\n",
       "      <td>4.61</td>\n",
       "      <td>0.35</td>\n",
       "      <td>0.21</td>\n",
       "      <td>-0.14</td>\n",
       "    </tr>\n",
       "    <tr>\n",
       "      <th>1</th>\n",
       "      <td>2024-05-06</td>\n",
       "      <td>5.51</td>\n",
       "      <td>5.48</td>\n",
       "      <td>5.45</td>\n",
       "      <td>5.42</td>\n",
       "      <td>5.12</td>\n",
       "      <td>4.82</td>\n",
       "      <td>4.64</td>\n",
       "      <td>4.48</td>\n",
       "      <td>4.48</td>\n",
       "      <td>4.49</td>\n",
       "      <td>4.73</td>\n",
       "      <td>4.64</td>\n",
       "      <td>0.33</td>\n",
       "      <td>0.18</td>\n",
       "      <td>-0.15</td>\n",
       "    </tr>\n",
       "    <tr>\n",
       "      <th>2</th>\n",
       "      <td>2024-05-05</td>\n",
       "      <td>5.51</td>\n",
       "      <td>5.48</td>\n",
       "      <td>5.45</td>\n",
       "      <td>5.41</td>\n",
       "      <td>5.12</td>\n",
       "      <td>4.81</td>\n",
       "      <td>4.63</td>\n",
       "      <td>4.48</td>\n",
       "      <td>4.49</td>\n",
       "      <td>4.50</td>\n",
       "      <td>4.75</td>\n",
       "      <td>4.66</td>\n",
       "      <td>0.31</td>\n",
       "      <td>0.15</td>\n",
       "      <td>-0.16</td>\n",
       "    </tr>\n",
       "    <tr>\n",
       "      <th>3</th>\n",
       "      <td>2024-05-04</td>\n",
       "      <td>5.51</td>\n",
       "      <td>5.48</td>\n",
       "      <td>5.45</td>\n",
       "      <td>5.41</td>\n",
       "      <td>5.12</td>\n",
       "      <td>4.81</td>\n",
       "      <td>4.63</td>\n",
       "      <td>4.48</td>\n",
       "      <td>4.49</td>\n",
       "      <td>4.50</td>\n",
       "      <td>4.75</td>\n",
       "      <td>4.66</td>\n",
       "      <td>0.31</td>\n",
       "      <td>0.15</td>\n",
       "      <td>-0.16</td>\n",
       "    </tr>\n",
       "    <tr>\n",
       "      <th>4</th>\n",
       "      <td>2024-05-03</td>\n",
       "      <td>5.51</td>\n",
       "      <td>5.48</td>\n",
       "      <td>5.45</td>\n",
       "      <td>5.41</td>\n",
       "      <td>5.12</td>\n",
       "      <td>4.81</td>\n",
       "      <td>4.63</td>\n",
       "      <td>4.48</td>\n",
       "      <td>4.49</td>\n",
       "      <td>4.50</td>\n",
       "      <td>4.75</td>\n",
       "      <td>4.66</td>\n",
       "      <td>0.31</td>\n",
       "      <td>0.15</td>\n",
       "      <td>-0.16</td>\n",
       "    </tr>\n",
       "  </tbody>\n",
       "</table>\n",
       "</div>"
      ],
      "text/plain": [
       "         Date  1 Mo  2 Mo  3 Mo  6 Mo  1 Yr  2 Yr  3 Yr  5 Yr  7 Yr  10 Yr  \\\n",
       "0  2024-05-07  5.51  5.48  5.45  5.41  5.13  4.82  4.60  4.48  4.47   4.47   \n",
       "1  2024-05-06  5.51  5.48  5.45  5.42  5.12  4.82  4.64  4.48  4.48   4.49   \n",
       "2  2024-05-05  5.51  5.48  5.45  5.41  5.12  4.81  4.63  4.48  4.49   4.50   \n",
       "3  2024-05-04  5.51  5.48  5.45  5.41  5.12  4.81  4.63  4.48  4.49   4.50   \n",
       "4  2024-05-03  5.51  5.48  5.45  5.41  5.12  4.81  4.63  4.48  4.49   4.50   \n",
       "\n",
       "   20 Yr  30 Yr  2 Yr - 10 Yr  2 Yr - 30 Yr  10 Yr - 30 Yr  \n",
       "0   4.70   4.61          0.35          0.21          -0.14  \n",
       "1   4.73   4.64          0.33          0.18          -0.15  \n",
       "2   4.75   4.66          0.31          0.15          -0.16  \n",
       "3   4.75   4.66          0.31          0.15          -0.16  \n",
       "4   4.75   4.66          0.31          0.15          -0.16  "
      ]
     },
     "execution_count": 2,
     "metadata": {},
     "output_type": "execute_result"
    }
   ],
   "source": [
    "df = pd.read_parquet(BASE_DIR + data_cleaned_dir)\n",
    "print(df.shape)\n",
    "\n",
    "df.head()"
   ]
  },
  {
   "cell_type": "code",
   "execution_count": 37,
   "metadata": {},
   "outputs": [],
   "source": [
    "prompt = \"\"\"\n",
    "    **US Treasury Yield Curve Movements On 2024-05-07**\n",
    "\n",
    "    **Overview:**\n",
    "    <PROVIDE A BRIEF OVERVIEW OF THE CURRENT STATE OF THE YIELD CURVE AND THE MOST RECENT YIELD CURVE DYNAMICS THAT WOULD BE RELEVANT TO ECONOMISTS AND INVESTORS. COMMENT ON IF THE CURVE STEEPEND OR FLATTENED FOR EXAMPLE.>\n",
    "\n",
    "    **What it Means**\n",
    "    1. **Economic Outlook:** <ONE TO THREE SENTENCES ON THE ECONOMIC OUTLOOK BASED ON THE YIELD CURVE>\n",
    "    \n",
    "    2. **Monetary Policy:** <ONE TO THREE SENTENCES ON WHAT THE CURRENT YIELD CURVE MIGHT INDICATE FOR MONETARY POLICY>\n",
    "\n",
    "    3. **Investment Strategies:** <GIVE A BRIEF COMMENT ON WHAT THE CURRENT YIELD CURVE MIGHT INDICATE FOR INVESTORS>\n",
    "\"\"\""
   ]
  },
  {
   "cell_type": "code",
   "execution_count": 39,
   "metadata": {},
   "outputs": [
    {
     "name": "stdout",
     "output_type": "stream",
     "text": [
      "**US Treasury Yield Curve Movements On 2024-05-07**\n",
      "\n",
      "**Overview:**\n",
      "The US Treasury Yield Curve on May 7, 2024, shows a slight flattening compared to the previous day, with shorter-term yields remaining relatively stable while longer-term yields decreased slightly. The spread between 2-year and 10-year yields is narrowing.\n",
      "\n",
      "**What it Means**\n",
      "\n",
      "1. **Economic Outlook:** The flattening yield curve may suggest some concerns about future economic growth, as longer-term yields are declining. This could signal expectations of lower inflation or potential economic headwinds in the medium to long term.\n",
      "\n",
      "2. **Monetary Policy:** The narrowing spread between 2-year and 10-year yields indicates diminishing expectations of future interest rate hikes by the Federal Reserve. A flatter yield curve can sometimes precede a shift towards more accommodative monetary policy to stimulate economic activity.\n",
      "\n",
      "3. **Investment Strategies:** Investors may interpret the flattening yield curve as a signal to potentially reposition their portfolios. In a flattening yield curve environment, sectors like utilities and consumer staples may outperform, while financials and cyclical sectors could face challenges. Fixed-income investors might consider adjusting their duration exposure given the changing yield differentials.\n"
     ]
    }
   ],
   "source": [
    "# Create a function to generate insights\n",
    "def generate_insight(data_summary):\n",
    "    response = openai.ChatCompletion.create(\n",
    "        model=\"gpt-3.5-turbo\",\n",
    "        messages=[\n",
    "            {\"role\": \"system\", \"content\": \"You are an economic and financial expert on the US Treasury Yield Curve.\"},\n",
    "            {\"role\": \"user\", \"content\": f\"Provide insights based on the following data in the format below, fill in your analyses in the carrots <>:\\\n",
    "                                          The response template you need to use: {prompt}. \\\n",
    "                                          The summary data: {data_summary}.\"}\n",
    "        ]\n",
    "    )\n",
    "    return response['choices'][0]['message']['content'].strip()\n",
    "\n",
    "# Get insights for the DataFrame summary\n",
    "insights = generate_insight(data_summary=df.iloc[: 50])\n",
    "print(insights)"
   ]
  },
  {
   "cell_type": "code",
   "execution_count": null,
   "metadata": {},
   "outputs": [],
   "source": []
  }
 ],
 "metadata": {
  "kernelspec": {
   "display_name": "Python 3",
   "language": "python",
   "name": "python3"
  },
  "language_info": {
   "codemirror_mode": {
    "name": "ipython",
    "version": 3
   },
   "file_extension": ".py",
   "mimetype": "text/x-python",
   "name": "python",
   "nbconvert_exporter": "python",
   "pygments_lexer": "ipython3",
   "version": "3.11.9"
  }
 },
 "nbformat": 4,
 "nbformat_minor": 2
}
