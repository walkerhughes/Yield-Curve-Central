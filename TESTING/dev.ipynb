{
 "cells": [
  {
   "cell_type": "code",
   "execution_count": 1,
   "metadata": {},
   "outputs": [
    {
     "data": {
      "text/plain": [
       "True"
      ]
     },
     "execution_count": 1,
     "metadata": {},
     "output_type": "execute_result"
    }
   ],
   "source": [
    "import os\n",
    "import datetime \n",
    "import pandas as pd \n",
    "from datetime import datetime, timedelta\n",
    "import pandas_market_calendars as mcal\n",
    "\n",
    "import openai \n",
    "from dotenv import load_dotenv\n",
    "\n",
    "import utils \n",
    "\n",
    "BASE_DIR = \"/\".join(os.getcwd().split(\"/\")[: -1])\n",
    "data_cleaned_dir = \"/data/cleaned/yield_curve_historical_rates_MASTER.parquet\"\n",
    "\n",
    "from google.cloud import bigquery \n",
    "\n",
    "os.environ[\"GOOGLE_APPLICATION_CREDENTIALS\"] = \"../yieldcurve-422317-510529e47525.json\"\n",
    "CURRENT_DATE = str(datetime.today()).split(\" \")[0]\n",
    "\n",
    "load_dotenv()"
   ]
  },
  {
   "cell_type": "code",
   "execution_count": 2,
   "metadata": {},
   "outputs": [
    {
     "ename": "BadRequest",
     "evalue": "400 Syntax error: Expected \")\" but got integer literal \"0\" at [12:18]; reason: invalidQuery, location: query, message: Syntax error: Expected \")\" but got integer literal \"0\" at [12:18]\n\nLocation: us-west2\nJob ID: f6660e12-430b-4230-9f92-05143933eb35\n",
     "output_type": "error",
     "traceback": [
      "\u001b[0;31m---------------------------------------------------------------------------\u001b[0m",
      "\u001b[0;31mBadRequest\u001b[0m                                Traceback (most recent call last)",
      "Cell \u001b[0;32mIn[2], line 1\u001b[0m\n\u001b[0;32m----> 1\u001b[0m summary_str \u001b[38;5;241m=\u001b[39m \u001b[43mutils\u001b[49m\u001b[38;5;241;43m.\u001b[39;49m\u001b[43msummary_data_str\u001b[49m\u001b[43m(\u001b[49m\u001b[43m)\u001b[49m\n",
      "File \u001b[0;32m~/Documents/GitHub/yieldcentral/TESTING/utils.py:53\u001b[0m, in \u001b[0;36msummary_data_str\u001b[0;34m()\u001b[0m\n\u001b[1;32m     52\u001b[0m \u001b[38;5;28;01mdef\u001b[39;00m \u001b[38;5;21msummary_data_str\u001b[39m(): \n\u001b[0;32m---> 53\u001b[0m     summary_data \u001b[38;5;241m=\u001b[39m \u001b[43msummary_data_query\u001b[49m\u001b[43m(\u001b[49m\u001b[43m)\u001b[49m \n\u001b[1;32m     54\u001b[0m     df \u001b[38;5;241m=\u001b[39m pd\u001b[38;5;241m.\u001b[39mread_parquet(BASE_DIR \u001b[38;5;241m+\u001b[39m data_cleaned_dir)\n\u001b[1;32m     55\u001b[0m     summary_str \u001b[38;5;241m=\u001b[39m \u001b[38;5;124mf\u001b[39m\u001b[38;5;124m\"\"\"\u001b[39m\u001b[38;5;124m \u001b[39m\n\u001b[1;32m     56\u001b[0m \u001b[38;5;124m        **Summary Statistics for \u001b[39m\u001b[38;5;132;01m{\u001b[39;00mdf\u001b[38;5;241m.\u001b[39miloc[\u001b[38;5;241m0\u001b[39m][\u001b[38;5;124m\"\u001b[39m\u001b[38;5;124mDate\u001b[39m\u001b[38;5;124m\"\u001b[39m]\u001b[38;5;132;01m}\u001b[39;00m\u001b[38;5;124m**\u001b[39m\u001b[38;5;130;01m\\n\u001b[39;00m\n\u001b[1;32m     57\u001b[0m \u001b[38;5;124m        **Is inverted**: \u001b[39m\u001b[38;5;132;01m{\u001b[39;00m\u001b[38;5;28;01mTrue\u001b[39;00m\u001b[38;5;250m \u001b[39m\u001b[38;5;28;01mif\u001b[39;00m\u001b[38;5;250m \u001b[39mdf\u001b[38;5;241m.\u001b[39miloc[\u001b[38;5;241m0\u001b[39m][\u001b[38;5;124m\"\u001b[39m\u001b[38;5;124m2 Yr\u001b[39m\u001b[38;5;124m\"\u001b[39m]\u001b[38;5;250m \u001b[39m\u001b[38;5;241m>\u001b[39m\u001b[38;5;250m \u001b[39mdf\u001b[38;5;241m.\u001b[39miloc[\u001b[38;5;241m0\u001b[39m][\u001b[38;5;124m\"\u001b[39m\u001b[38;5;124m10 Yr\u001b[39m\u001b[38;5;124m\"\u001b[39m]\u001b[38;5;250m \u001b[39m\u001b[38;5;28;01melse\u001b[39;00m\u001b[38;5;250m \u001b[39m\u001b[38;5;28;01mFalse\u001b[39;00m\u001b[38;5;132;01m}\u001b[39;00m\n\u001b[0;32m   (...)\u001b[0m\n\u001b[1;32m     61\u001b[0m \u001b[38;5;124m        **3 Month-10 Year Difference**: \u001b[39m\u001b[38;5;132;01m{\u001b[39;00msummary_data[\u001b[38;5;124m\"\u001b[39m\u001b[38;5;124mdiff_3m_10y\u001b[39m\u001b[38;5;124m\"\u001b[39m]\u001b[38;5;241m.\u001b[39mvalues[\u001b[38;5;241m0\u001b[39m]\u001b[38;5;132;01m}\u001b[39;00m\u001b[38;5;124m%\u001b[39m\n\u001b[1;32m     62\u001b[0m \u001b[38;5;124m    \u001b[39m\u001b[38;5;124m\"\"\"\u001b[39m\n",
      "File \u001b[0;32m~/Documents/GitHub/yieldcentral/TESTING/utils.py:49\u001b[0m, in \u001b[0;36msummary_data_query\u001b[0;34m()\u001b[0m\n\u001b[1;32m     21\u001b[0m query \u001b[38;5;241m=\u001b[39m \u001b[38;5;124mf\u001b[39m\u001b[38;5;124m\"\"\"\u001b[39m\u001b[38;5;124m \u001b[39m\n\u001b[1;32m     22\u001b[0m \u001b[38;5;124m    WITH inversion_date AS (\u001b[39m\n\u001b[1;32m     23\u001b[0m \u001b[38;5;124m        SELECT \u001b[39m\n\u001b[0;32m   (...)\u001b[0m\n\u001b[1;32m     46\u001b[0m \u001b[38;5;124m    ;\u001b[39m\n\u001b[1;32m     47\u001b[0m \u001b[38;5;124m\u001b[39m\u001b[38;5;124m\"\"\"\u001b[39m\n\u001b[1;32m     48\u001b[0m results \u001b[38;5;241m=\u001b[39m client\u001b[38;5;241m.\u001b[39mquery(query)  \n\u001b[0;32m---> 49\u001b[0m summary_data \u001b[38;5;241m=\u001b[39m pd\u001b[38;5;241m.\u001b[39mDataFrame([\u001b[38;5;28mdict\u001b[39m(_) \u001b[38;5;28;01mfor\u001b[39;00m _ \u001b[38;5;129;01min\u001b[39;00m \u001b[43mresults\u001b[49m\u001b[38;5;241;43m.\u001b[39;49m\u001b[43mresult\u001b[49m\u001b[43m(\u001b[49m\u001b[43m)\u001b[49m])\n\u001b[1;32m     50\u001b[0m \u001b[38;5;28;01mreturn\u001b[39;00m summary_data\n",
      "File \u001b[0;32m~/Documents/GitHub/yieldcentral/venv/lib/python3.11/site-packages/google/cloud/bigquery/job/query.py:1626\u001b[0m, in \u001b[0;36mQueryJob.result\u001b[0;34m(self, page_size, max_results, retry, timeout, start_index, job_retry)\u001b[0m\n\u001b[1;32m   1621\u001b[0m     remaining_timeout \u001b[38;5;241m=\u001b[39m \u001b[38;5;28;01mNone\u001b[39;00m\n\u001b[1;32m   1623\u001b[0m \u001b[38;5;28;01mif\u001b[39;00m remaining_timeout \u001b[38;5;129;01mis\u001b[39;00m \u001b[38;5;28;01mNone\u001b[39;00m:\n\u001b[1;32m   1624\u001b[0m     \u001b[38;5;66;03m# Since is_job_done() calls jobs.getQueryResults, which is a\u001b[39;00m\n\u001b[1;32m   1625\u001b[0m     \u001b[38;5;66;03m# long-running API, don't delay the next request at all.\u001b[39;00m\n\u001b[0;32m-> 1626\u001b[0m     \u001b[38;5;28;01mwhile\u001b[39;00m \u001b[38;5;129;01mnot\u001b[39;00m \u001b[43mis_job_done\u001b[49m\u001b[43m(\u001b[49m\u001b[43m)\u001b[49m:\n\u001b[1;32m   1627\u001b[0m         \u001b[38;5;28;01mpass\u001b[39;00m\n\u001b[1;32m   1628\u001b[0m \u001b[38;5;28;01melse\u001b[39;00m:\n\u001b[1;32m   1629\u001b[0m     \u001b[38;5;66;03m# Use a monotonic clock since we don't actually care about\u001b[39;00m\n\u001b[1;32m   1630\u001b[0m     \u001b[38;5;66;03m# daylight savings or similar, just the elapsed time.\u001b[39;00m\n",
      "File \u001b[0;32m~/Documents/GitHub/yieldcentral/venv/lib/python3.11/site-packages/google/api_core/retry/retry_unary.py:293\u001b[0m, in \u001b[0;36mRetry.__call__.<locals>.retry_wrapped_func\u001b[0;34m(*args, **kwargs)\u001b[0m\n\u001b[1;32m    289\u001b[0m target \u001b[38;5;241m=\u001b[39m functools\u001b[38;5;241m.\u001b[39mpartial(func, \u001b[38;5;241m*\u001b[39margs, \u001b[38;5;241m*\u001b[39m\u001b[38;5;241m*\u001b[39mkwargs)\n\u001b[1;32m    290\u001b[0m sleep_generator \u001b[38;5;241m=\u001b[39m exponential_sleep_generator(\n\u001b[1;32m    291\u001b[0m     \u001b[38;5;28mself\u001b[39m\u001b[38;5;241m.\u001b[39m_initial, \u001b[38;5;28mself\u001b[39m\u001b[38;5;241m.\u001b[39m_maximum, multiplier\u001b[38;5;241m=\u001b[39m\u001b[38;5;28mself\u001b[39m\u001b[38;5;241m.\u001b[39m_multiplier\n\u001b[1;32m    292\u001b[0m )\n\u001b[0;32m--> 293\u001b[0m \u001b[38;5;28;01mreturn\u001b[39;00m \u001b[43mretry_target\u001b[49m\u001b[43m(\u001b[49m\n\u001b[1;32m    294\u001b[0m \u001b[43m    \u001b[49m\u001b[43mtarget\u001b[49m\u001b[43m,\u001b[49m\n\u001b[1;32m    295\u001b[0m \u001b[43m    \u001b[49m\u001b[38;5;28;43mself\u001b[39;49m\u001b[38;5;241;43m.\u001b[39;49m\u001b[43m_predicate\u001b[49m\u001b[43m,\u001b[49m\n\u001b[1;32m    296\u001b[0m \u001b[43m    \u001b[49m\u001b[43msleep_generator\u001b[49m\u001b[43m,\u001b[49m\n\u001b[1;32m    297\u001b[0m \u001b[43m    \u001b[49m\u001b[43mtimeout\u001b[49m\u001b[38;5;241;43m=\u001b[39;49m\u001b[38;5;28;43mself\u001b[39;49m\u001b[38;5;241;43m.\u001b[39;49m\u001b[43m_timeout\u001b[49m\u001b[43m,\u001b[49m\n\u001b[1;32m    298\u001b[0m \u001b[43m    \u001b[49m\u001b[43mon_error\u001b[49m\u001b[38;5;241;43m=\u001b[39;49m\u001b[43mon_error\u001b[49m\u001b[43m,\u001b[49m\n\u001b[1;32m    299\u001b[0m \u001b[43m\u001b[49m\u001b[43m)\u001b[49m\n",
      "File \u001b[0;32m~/Documents/GitHub/yieldcentral/venv/lib/python3.11/site-packages/google/api_core/retry/retry_unary.py:153\u001b[0m, in \u001b[0;36mretry_target\u001b[0;34m(target, predicate, sleep_generator, timeout, on_error, exception_factory, **kwargs)\u001b[0m\n\u001b[1;32m    149\u001b[0m \u001b[38;5;66;03m# pylint: disable=broad-except\u001b[39;00m\n\u001b[1;32m    150\u001b[0m \u001b[38;5;66;03m# This function explicitly must deal with broad exceptions.\u001b[39;00m\n\u001b[1;32m    151\u001b[0m \u001b[38;5;28;01mexcept\u001b[39;00m \u001b[38;5;167;01mException\u001b[39;00m \u001b[38;5;28;01mas\u001b[39;00m exc:\n\u001b[1;32m    152\u001b[0m     \u001b[38;5;66;03m# defer to shared logic for handling errors\u001b[39;00m\n\u001b[0;32m--> 153\u001b[0m     \u001b[43m_retry_error_helper\u001b[49m\u001b[43m(\u001b[49m\n\u001b[1;32m    154\u001b[0m \u001b[43m        \u001b[49m\u001b[43mexc\u001b[49m\u001b[43m,\u001b[49m\n\u001b[1;32m    155\u001b[0m \u001b[43m        \u001b[49m\u001b[43mdeadline\u001b[49m\u001b[43m,\u001b[49m\n\u001b[1;32m    156\u001b[0m \u001b[43m        \u001b[49m\u001b[43msleep\u001b[49m\u001b[43m,\u001b[49m\n\u001b[1;32m    157\u001b[0m \u001b[43m        \u001b[49m\u001b[43merror_list\u001b[49m\u001b[43m,\u001b[49m\n\u001b[1;32m    158\u001b[0m \u001b[43m        \u001b[49m\u001b[43mpredicate\u001b[49m\u001b[43m,\u001b[49m\n\u001b[1;32m    159\u001b[0m \u001b[43m        \u001b[49m\u001b[43mon_error\u001b[49m\u001b[43m,\u001b[49m\n\u001b[1;32m    160\u001b[0m \u001b[43m        \u001b[49m\u001b[43mexception_factory\u001b[49m\u001b[43m,\u001b[49m\n\u001b[1;32m    161\u001b[0m \u001b[43m        \u001b[49m\u001b[43mtimeout\u001b[49m\u001b[43m,\u001b[49m\n\u001b[1;32m    162\u001b[0m \u001b[43m    \u001b[49m\u001b[43m)\u001b[49m\n\u001b[1;32m    163\u001b[0m     \u001b[38;5;66;03m# if exception not raised, sleep before next attempt\u001b[39;00m\n\u001b[1;32m    164\u001b[0m     time\u001b[38;5;241m.\u001b[39msleep(sleep)\n",
      "File \u001b[0;32m~/Documents/GitHub/yieldcentral/venv/lib/python3.11/site-packages/google/api_core/retry/retry_base.py:212\u001b[0m, in \u001b[0;36m_retry_error_helper\u001b[0;34m(exc, deadline, next_sleep, error_list, predicate_fn, on_error_fn, exc_factory_fn, original_timeout)\u001b[0m\n\u001b[1;32m    206\u001b[0m \u001b[38;5;28;01mif\u001b[39;00m \u001b[38;5;129;01mnot\u001b[39;00m predicate_fn(exc):\n\u001b[1;32m    207\u001b[0m     final_exc, source_exc \u001b[38;5;241m=\u001b[39m exc_factory_fn(\n\u001b[1;32m    208\u001b[0m         error_list,\n\u001b[1;32m    209\u001b[0m         RetryFailureReason\u001b[38;5;241m.\u001b[39mNON_RETRYABLE_ERROR,\n\u001b[1;32m    210\u001b[0m         original_timeout,\n\u001b[1;32m    211\u001b[0m     )\n\u001b[0;32m--> 212\u001b[0m     \u001b[38;5;28;01mraise\u001b[39;00m final_exc \u001b[38;5;28;01mfrom\u001b[39;00m \u001b[38;5;21;01msource_exc\u001b[39;00m\n\u001b[1;32m    213\u001b[0m \u001b[38;5;28;01mif\u001b[39;00m on_error_fn \u001b[38;5;129;01mis\u001b[39;00m \u001b[38;5;129;01mnot\u001b[39;00m \u001b[38;5;28;01mNone\u001b[39;00m:\n\u001b[1;32m    214\u001b[0m     on_error_fn(exc)\n",
      "File \u001b[0;32m~/Documents/GitHub/yieldcentral/venv/lib/python3.11/site-packages/google/api_core/retry/retry_unary.py:144\u001b[0m, in \u001b[0;36mretry_target\u001b[0;34m(target, predicate, sleep_generator, timeout, on_error, exception_factory, **kwargs)\u001b[0m\n\u001b[1;32m    142\u001b[0m \u001b[38;5;28;01mfor\u001b[39;00m sleep \u001b[38;5;129;01min\u001b[39;00m sleep_generator:\n\u001b[1;32m    143\u001b[0m     \u001b[38;5;28;01mtry\u001b[39;00m:\n\u001b[0;32m--> 144\u001b[0m         result \u001b[38;5;241m=\u001b[39m \u001b[43mtarget\u001b[49m\u001b[43m(\u001b[49m\u001b[43m)\u001b[49m\n\u001b[1;32m    145\u001b[0m         \u001b[38;5;28;01mif\u001b[39;00m inspect\u001b[38;5;241m.\u001b[39misawaitable(result):\n\u001b[1;32m    146\u001b[0m             warnings\u001b[38;5;241m.\u001b[39mwarn(_ASYNC_RETRY_WARNING)\n",
      "File \u001b[0;32m~/Documents/GitHub/yieldcentral/venv/lib/python3.11/site-packages/google/cloud/bigquery/job/query.py:1577\u001b[0m, in \u001b[0;36mQueryJob.result.<locals>.is_job_done\u001b[0;34m()\u001b[0m\n\u001b[1;32m   1554\u001b[0m \u001b[38;5;28;01mif\u001b[39;00m job_failed_exception \u001b[38;5;129;01mis\u001b[39;00m \u001b[38;5;129;01mnot\u001b[39;00m \u001b[38;5;28;01mNone\u001b[39;00m:\n\u001b[1;32m   1555\u001b[0m     \u001b[38;5;66;03m# Only try to restart the query job if the job failed for\u001b[39;00m\n\u001b[1;32m   1556\u001b[0m     \u001b[38;5;66;03m# a retriable reason. For example, don't restart the query\u001b[39;00m\n\u001b[0;32m   (...)\u001b[0m\n\u001b[1;32m   1574\u001b[0m     \u001b[38;5;66;03m# into an exception that can be processed by the\u001b[39;00m\n\u001b[1;32m   1575\u001b[0m     \u001b[38;5;66;03m# `job_retry` predicate.\u001b[39;00m\n\u001b[1;32m   1576\u001b[0m     restart_query_job \u001b[38;5;241m=\u001b[39m \u001b[38;5;28;01mTrue\u001b[39;00m\n\u001b[0;32m-> 1577\u001b[0m     \u001b[38;5;28;01mraise\u001b[39;00m job_failed_exception\n\u001b[1;32m   1578\u001b[0m \u001b[38;5;28;01melse\u001b[39;00m:\n\u001b[1;32m   1579\u001b[0m     \u001b[38;5;66;03m# Make sure that the _query_results are cached so we\u001b[39;00m\n\u001b[1;32m   1580\u001b[0m     \u001b[38;5;66;03m# can return a complete RowIterator.\u001b[39;00m\n\u001b[0;32m   (...)\u001b[0m\n\u001b[1;32m   1586\u001b[0m     \u001b[38;5;66;03m# making any extra API calls if the previous loop\u001b[39;00m\n\u001b[1;32m   1587\u001b[0m     \u001b[38;5;66;03m# iteration fetched the finished job.\u001b[39;00m\n\u001b[1;32m   1588\u001b[0m     \u001b[38;5;28mself\u001b[39m\u001b[38;5;241m.\u001b[39m_reload_query_results(retry\u001b[38;5;241m=\u001b[39mretry, timeout\u001b[38;5;241m=\u001b[39mtimeout)\n",
      "\u001b[0;31mBadRequest\u001b[0m: 400 Syntax error: Expected \")\" but got integer literal \"0\" at [12:18]; reason: invalidQuery, location: query, message: Syntax error: Expected \")\" but got integer literal \"0\" at [12:18]\n\nLocation: us-west2\nJob ID: f6660e12-430b-4230-9f92-05143933eb35\n"
     ]
    }
   ],
   "source": [
    "summary_str = utils.summary_data_str()"
   ]
  },
  {
   "cell_type": "code",
   "execution_count": 3,
   "metadata": {},
   "outputs": [],
   "source": [
    "df = pd.read_parquet(BASE_DIR + data_cleaned_dir)"
   ]
  },
  {
   "cell_type": "code",
   "execution_count": 23,
   "metadata": {},
   "outputs": [
    {
     "name": "stderr",
     "output_type": "stream",
     "text": [
      "[*********************100%%**********************]  1 of 1 completed\n"
     ]
    }
   ],
   "source": [
    "import yfinance as yf\n",
    "\n",
    "# Define the ticker symbol for SPY\n",
    "ticker_symbol = 'SPY'\n",
    "\n",
    "# Fetch the historical data\n",
    "spy_data = yf.download(ticker_symbol, start='2024-04-17', end='2024-05-22', interval='1d')"
   ]
  },
  {
   "cell_type": "code",
   "execution_count": 24,
   "metadata": {},
   "outputs": [],
   "source": [
    "spy_data = spy_data.reset_index()[[\"Date\", \"Adj Close\"]]"
   ]
  },
  {
   "cell_type": "code",
   "execution_count": 25,
   "metadata": {},
   "outputs": [],
   "source": [
    "overview_prompt = f\"\"\" \n",
    "\n",
    "    Today is 2024-05-22. \\\n",
    "    Provide a brief 5 sentence commentary on the current dynamics of the US Treasuy Yield Curve based on your analysis of this summary data: {summary_str},\\\n",
    "    and this data from the last month of end-of-day yield curve values: {df.iloc[: 31].to_string(index = False)}. \\\n",
    "    To aid in your commentary is the last month of SPY ETF data: {spy_data.to_string(index = False)}\n",
    "\n",
    "    Your analysis and comentary should be intelligent and not juvenile, non-speculative, and not contain financial advice. It should be easily understood by an 8th grader, but compelling \\\n",
    "    enough such that a professional investor would find reading it worthwhile. You may also indicate other areas researchers may wish to study for more context on the macroeconomic environment.\n",
    "\n",
    "    I gill give you $500 dollars if you can accomplish this. Be sure to utilize the active voice when referencing any data or statistics.\n",
    "\n",
    "\"\"\""
   ]
  },
  {
   "cell_type": "code",
   "execution_count": 26,
   "metadata": {},
   "outputs": [
    {
     "name": "stdout",
     "output_type": "stream",
     "text": [
      "The US Treasury Yield Curve, as of the 22nd of May, 2024, shows an inverted curve, a situation where longer-term debt instruments have a lower yield compared to shorter-term ones. This inversion is noteworthy because it's been 695 days since the last such occurrence. Investors typically view an inverted yield curve as an omen of economic downturn, hence the current scenario may raise certain concerns.\n",
      "\n",
      "A more detailed look at this inversion reveals the 2-year and 10-year Treasury notes differ by 0.47%, while the short-term 3-month Treasury bill and the 10-year note have a difference of 1.0%, creating a fundamentally unusual situation where it costs less to borrow for ten years than for three months or two years. \n",
      "\n",
      "Additionally, analysis of the recent SPY ETF data shows a steady upward trajectory over the same time period, implying investor confidence in equities. This confidence in the stock market during an inversion of the yield curve could suggest that investors aren’t anticipating a significant economic downturn or may be looking to equities for higher returns due to the lower yields in long-term bonds.\n",
      "\n",
      "While this situation might seem puzzling, the two elements: yield curve inversion and a rising stock market, could be interpreted together as a signal of changing investor expectations about future economic growth. As always, it's crucial for investors to pay attention to the broader economic situation and not rely solely on isolated market indicators.\n"
     ]
    }
   ],
   "source": [
    "# Create a function to generate insights\n",
    "def generate_insight() -> str:\n",
    "    response = openai.ChatCompletion.create(\n",
    "        model=\"gpt-4\",\n",
    "        messages=[\n",
    "            {\"role\": \"system\", \"content\": \"You are an expert on the US Treasury Yield Curve. You provide concise daily commentary on the Yield Curve's recent movements.\"},\n",
    "            {\"role\": \"user\", \"content\": f\"Please answer the following prompt: {overview_prompt}\"}\n",
    "        ]\n",
    "    )\n",
    "    return response['choices'][0]['message']['content'].strip()\n",
    "\n",
    "# Get insights for the DataFrame summary\n",
    "overview_insights = generate_insight()\n",
    "print(overview_insights)"
   ]
  },
  {
   "cell_type": "markdown",
   "metadata": {},
   "source": [
    "Based on the current statistics, the US Treasury Yield Curve is in an inverted position as of May 22nd, 2024. This inversion, where short-term bond yields are higher than long-term ones, is not a common event. In fact, our last inversion was nearly two years ago, signaling an unusual shift in market dynamics.\n",
    "\n",
    "Looking closely, the 2 Year-10 Year difference is at 0.47%, and the shorter term 3 Month-10 Year difference is double that at 1%. For those less well-versed in financial terminology, the larger these percentage differences, the steeper the yield curve. Hence, this elevated 3 Month-10 Year difference indicates that investors are demanding high yields for short-term investments.\n",
    "\n",
    "Peering at the month-end yield values, we observe a consistent decrease in yields as we move from shorter to longer-term bonds. This suggests that investors are expecting lower interest rates in the future, often a sign of a slowdown in economic growth. \n",
    "\n",
    "Meanwhile, the SPY ETF has been fluctuating but generally trending upwards in the past month, hinting at some investor optimism in the equity market. This runs counter to the bearish signal from the inverted yield curve, adding a layer of complexity to the current financial climate.\n",
    "\n",
    "Nonetheless, these dynamics should be viewed as part of a larger, constantly evolving landscape. All investors, whether beginners or seasoned professionals, should continue monitoring market movements, and as always, diligent research is key."
   ]
  },
  {
   "cell_type": "code",
   "execution_count": null,
   "metadata": {},
   "outputs": [],
   "source": []
  },
  {
   "cell_type": "code",
   "execution_count": null,
   "metadata": {},
   "outputs": [],
   "source": []
  },
  {
   "cell_type": "code",
   "execution_count": null,
   "metadata": {},
   "outputs": [],
   "source": []
  },
  {
   "cell_type": "code",
   "execution_count": null,
   "metadata": {},
   "outputs": [],
   "source": []
  },
  {
   "cell_type": "code",
   "execution_count": null,
   "metadata": {},
   "outputs": [],
   "source": []
  },
  {
   "cell_type": "code",
   "execution_count": null,
   "metadata": {},
   "outputs": [],
   "source": []
  },
  {
   "cell_type": "code",
   "execution_count": null,
   "metadata": {},
   "outputs": [],
   "source": []
  },
  {
   "cell_type": "code",
   "execution_count": null,
   "metadata": {},
   "outputs": [],
   "source": []
  },
  {
   "cell_type": "code",
   "execution_count": null,
   "metadata": {},
   "outputs": [],
   "source": []
  },
  {
   "cell_type": "code",
   "execution_count": null,
   "metadata": {},
   "outputs": [],
   "source": []
  },
  {
   "cell_type": "code",
   "execution_count": null,
   "metadata": {},
   "outputs": [],
   "source": []
  },
  {
   "cell_type": "code",
   "execution_count": null,
   "metadata": {},
   "outputs": [],
   "source": []
  },
  {
   "cell_type": "code",
   "execution_count": 108,
   "metadata": {},
   "outputs": [],
   "source": [
    "prompt = f\"\"\"\n",
    "    **US Treasury Yield Curve Movements on 2024-05-22**\n",
    "\n",
    "    **Overview:**\n",
    "    <Provide a brief overview of the current state of the yield curve relevant to economists and investors. Be mindful of the data contained in {summary_str}.>\n",
    "    <Comment on whether the yield curve steepened or flattened, using the differences between the 2-year and 10-year yields, and the 10-year and 30-year yields.>\n",
    "    <Mention if the flattening or steepening trend is continuing from recent days or if it marks the start of a new trend.>\n",
    "\n",
    "    **What it Means:**\n",
    "    1. **Economic Outlook:** <Write one to three sentences on the economic outlook based on the yield curve.>\n",
    "    \n",
    "    2. **Monetary Policy:** <Write one to three sentences on what the current yield curve might indicate for monetary policy.>\n",
    "\n",
    "    3. **Investment Strategies:** <Provide a brief comment on what interest-rate focused strategies might be for investors.>\n",
    "\n",
    "    (Please note that this is not financial advice.)\n",
    "\"\"\""
   ]
  },
  {
   "cell_type": "code",
   "execution_count": 110,
   "metadata": {},
   "outputs": [
    {
     "name": "stdout",
     "output_type": "stream",
     "text": [
      "**US Treasury Yield Curve Movements on 2024-05-22**\n",
      "\n",
      "**Overview:**\n",
      "The yield curve on May 22, 2024, shows a continued inversion with the 2-year yield higher than the 10-year yield. \n",
      "\n",
      "**Summary Statistics for 2024-05-22**\n",
      "- **Is inverted**: True\n",
      "- **Last inversion date**: 2022-07-05\n",
      "- **Days since last inversion**: 695\n",
      "- **2 Year-10 Year Difference**: 0.47%\n",
      "- **3 Month-10 Year Difference**: 1.0%\n",
      "\n",
      "The yield curve has flattened slightly compared to the previous days. The difference between the 2-year and 10-year yields has increased, indicating a flattening trend that has been ongoing.\n",
      "\n",
      "**What it Means:**\n",
      "1. **Economic Outlook:** A persistently inverted yield curve may signal looming economic challenges or a potential recession, as investors seek the safety of longer-term bonds amidst uncertainty.\n",
      "   \n",
      "2. **Monetary Policy:** The current yield curve suggests that market participants remain cautious about the future and anticipate potential rate cuts by the Federal Reserve to stimulate economic growth and address economic risks.\n",
      "\n",
      "3. **Investment Strategies:** Investors may consider re-evaluating their investment portfolios to hedge against potential economic downturns. Strategies may include diversification, focusing on quality assets, and considering fixed-income securities to balance risk.\n"
     ]
    }
   ],
   "source": [
    "# Create a function to generate insights\n",
    "def generate_insight(data_summary) -> str:\n",
    "    response = openai.ChatCompletion.create(\n",
    "        model=\"gpt-3.5-turbo\",\n",
    "        messages=[\n",
    "            {\"role\": \"system\", \"content\": \"You are an economic expert on the US Treasury Yield Curve that reports each day. \\\n",
    "                                           You provide intelligent, non-speculative analyses of recent data.\\\n",
    "                                           You provide these analyses daily after the closing values of the Yield Curve are determined.\"},\n",
    "            {\"role\": \"user\", \"content\": f\"Provide insights based on the following data in the format below, fill in your analyses in the carrots <>. Your response should NOT contain text in carrots:\\\n",
    "                                          The response template you need to use: {prompt}. \\\n",
    "                                          The summary data: {data_summary}.\"}\n",
    "        ]\n",
    "    )\n",
    "    return response['choices'][0]['message']['content'].strip()\n",
    "\n",
    "# Get insights for the DataFrame summary\n",
    "insights = generate_insight(data_summary=df.iloc[: 50].to_string(index = False))\n",
    "print(insights)"
   ]
  },
  {
   "cell_type": "markdown",
   "metadata": {},
   "source": [
    "**US Treasury Yield Curve Movements on 2024-05-22**\n",
    "\n",
    "**Overview:**\n",
    "The yield curve on May 22, 2024, shows a continued inversion with the 2-year yield higher than the 10-year yield. \n",
    "\n",
    "**Summary Statistics for 2024-05-22**\n",
    "- **Is inverted**: True\n",
    "- **Last inversion date**: 2022-07-05\n",
    "- **Days since last inversion**: 695\n",
    "- **2 Year-10 Year Difference**: 0.47%\n",
    "- **3 Month-10 Year Difference**: 1.0%\n",
    "\n",
    "The yield curve has flattened slightly compared to the previous days. The difference between the 2-year and 10-year yields has increased, indicating a flattening trend that has been ongoing.\n",
    "\n",
    "**What it Means:**\n",
    "1. **Economic Outlook:** A persistently inverted yield curve may signal looming economic challenges or a potential recession, as investors seek the safety of longer-term bonds amidst uncertainty.\n",
    "   \n",
    "2. **Monetary Policy:** The current yield curve suggests that market participants remain cautious about the future and anticipate potential rate cuts by the Federal Reserve to stimulate economic growth and address economic risks.\n",
    "\n",
    "3. **Investment Strategies:** Investors may consider re-evaluating their investment portfolios to hedge against potential economic downturns. Strategies may include diversification, focusing on quality assets, and considering fixed-income securities to balance risk."
   ]
  },
  {
   "cell_type": "code",
   "execution_count": null,
   "metadata": {},
   "outputs": [],
   "source": []
  }
 ],
 "metadata": {
  "kernelspec": {
   "display_name": "Python 3",
   "language": "python",
   "name": "python3"
  },
  "language_info": {
   "codemirror_mode": {
    "name": "ipython",
    "version": 3
   },
   "file_extension": ".py",
   "mimetype": "text/x-python",
   "name": "python",
   "nbconvert_exporter": "python",
   "pygments_lexer": "ipython3",
   "version": "3.11.9"
  }
 },
 "nbformat": 4,
 "nbformat_minor": 2
}
